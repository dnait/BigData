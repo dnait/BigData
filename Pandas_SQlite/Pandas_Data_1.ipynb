{
 "cells": [
  {
   "cell_type": "markdown",
   "metadata": {},
   "source": [
    "# Object Creation"
   ]
  },
  {
   "cell_type": "code",
   "execution_count": 4,
   "metadata": {
    "collapsed": false
   },
   "outputs": [
    {
     "data": {
      "text/html": [
       "<iframe id=\"igraph\" scrolling=\"no\" style=\"border:none;\" seamless=\"seamless\" src=\"https://plot.ly/~chris/7365.embed\" height=\"525\" width=\"100%\"></iframe>"
      ],
      "text/plain": [
       "<plotly.tools.PlotlyDisplay object>"
      ]
     },
     "execution_count": 4,
     "metadata": {},
     "output_type": "execute_result"
    }
   ],
   "source": [
    "#Pandas Demo\n",
    "import plotly.tools as tls\n",
    "tls.embed('https://plot.ly/~chris/7365')"
   ]
  },
  {
   "cell_type": "markdown",
   "metadata": {},
   "source": [
    "Creating a Series by passing a list of values, letting pandas create a default integer index:"
   ]
  },
  {
   "cell_type": "code",
   "execution_count": 8,
   "metadata": {
    "collapsed": false
   },
   "outputs": [
    {
     "data": {
      "text/plain": [
       "0    1.0\n",
       "1    3.0\n",
       "2    5.0\n",
       "3    NaN\n",
       "4    6.0\n",
       "5    8.0\n",
       "dtype: float64"
      ]
     },
     "execution_count": 8,
     "metadata": {},
     "output_type": "execute_result"
    }
   ],
   "source": [
    "import pandas as pd\n",
    "import numpy as np\n",
    "import matplotlib.pyplot as plt\n",
    "#np.nan = nont a number = NaN\n",
    "s=pd.Series([1,3,5,np.nan,6,8])\n",
    "s"
   ]
  },
  {
   "cell_type": "markdown",
   "metadata": {},
   "source": [
    "Creating a DataFrame by passing a numpy array, with a datetime index and labeled columns:"
   ]
  },
  {
   "cell_type": "code",
   "execution_count": 23,
   "metadata": {
    "collapsed": false
   },
   "outputs": [
    {
     "data": {
      "text/plain": [
       "DatetimeIndex(['2016-01-01', '2016-01-02', '2016-01-03', '2016-01-04',\n",
       "               '2016-01-05', '2016-01-06'],\n",
       "              dtype='datetime64[ns]', freq='D')"
      ]
     },
     "execution_count": 23,
     "metadata": {},
     "output_type": "execute_result"
    }
   ],
   "source": [
    "#typo: period->ValueError: Must specify two of start, end, or periods\n",
    "dates=pd.date_range('20160101', periods=6)\n",
    "dates"
   ]
  },
  {
   "cell_type": "code",
   "execution_count": 44,
   "metadata": {
    "collapsed": false
   },
   "outputs": [
    {
     "data": {
      "text/html": [
       "<div>\n",
       "<table border=\"1\" class=\"dataframe\">\n",
       "  <thead>\n",
       "    <tr style=\"text-align: right;\">\n",
       "      <th></th>\n",
       "      <th>2016-01-01 00:00:00</th>\n",
       "      <th>2016-01-02 00:00:00</th>\n",
       "      <th>2016-01-03 00:00:00</th>\n",
       "      <th>2016-01-04 00:00:00</th>\n",
       "      <th>2016-01-05 00:00:00</th>\n",
       "      <th>2016-01-06 00:00:00</th>\n",
       "    </tr>\n",
       "  </thead>\n",
       "  <tbody>\n",
       "    <tr>\n",
       "      <th>M</th>\n",
       "      <td>1.585902</td>\n",
       "      <td>-0.241186</td>\n",
       "      <td>-0.008384</td>\n",
       "      <td>1.470767</td>\n",
       "      <td>0.479194</td>\n",
       "      <td>1.731840</td>\n",
       "    </tr>\n",
       "    <tr>\n",
       "      <th>T</th>\n",
       "      <td>2.321499</td>\n",
       "      <td>-0.443847</td>\n",
       "      <td>-1.850088</td>\n",
       "      <td>0.614447</td>\n",
       "      <td>-0.746913</td>\n",
       "      <td>0.947189</td>\n",
       "    </tr>\n",
       "    <tr>\n",
       "      <th>W</th>\n",
       "      <td>0.520307</td>\n",
       "      <td>1.277056</td>\n",
       "      <td>-0.779309</td>\n",
       "      <td>1.149619</td>\n",
       "      <td>0.836865</td>\n",
       "      <td>1.165001</td>\n",
       "    </tr>\n",
       "    <tr>\n",
       "      <th>T</th>\n",
       "      <td>-0.093841</td>\n",
       "      <td>1.413210</td>\n",
       "      <td>1.181843</td>\n",
       "      <td>0.988841</td>\n",
       "      <td>0.255439</td>\n",
       "      <td>1.317878</td>\n",
       "    </tr>\n",
       "  </tbody>\n",
       "</table>\n",
       "</div>"
      ],
      "text/plain": [
       "   2016-01-01  2016-01-02  2016-01-03  2016-01-04  2016-01-05  2016-01-06\n",
       "M    1.585902   -0.241186   -0.008384    1.470767    0.479194    1.731840\n",
       "T    2.321499   -0.443847   -1.850088    0.614447   -0.746913    0.947189\n",
       "W    0.520307    1.277056   -0.779309    1.149619    0.836865    1.165001\n",
       "T   -0.093841    1.413210    1.181843    0.988841    0.255439    1.317878"
      ]
     },
     "execution_count": 44,
     "metadata": {},
     "output_type": "execute_result"
    }
   ],
   "source": [
    "df=pd.DataFrame(np.random.randn(4,6), index=list('MTWT'), columns=dates)\n",
    "df"
   ]
  },
  {
   "cell_type": "code",
   "execution_count": 45,
   "metadata": {
    "collapsed": false
   },
   "outputs": [
    {
     "data": {
      "text/html": [
       "<div>\n",
       "<table border=\"1\" class=\"dataframe\">\n",
       "  <thead>\n",
       "    <tr style=\"text-align: right;\">\n",
       "      <th></th>\n",
       "      <th>A</th>\n",
       "      <th>B</th>\n",
       "      <th>C</th>\n",
       "      <th>D</th>\n",
       "    </tr>\n",
       "  </thead>\n",
       "  <tbody>\n",
       "    <tr>\n",
       "      <th>2016-01-01</th>\n",
       "      <td>0.699853</td>\n",
       "      <td>-0.825632</td>\n",
       "      <td>-0.798779</td>\n",
       "      <td>1.574983</td>\n",
       "    </tr>\n",
       "    <tr>\n",
       "      <th>2016-01-02</th>\n",
       "      <td>0.967239</td>\n",
       "      <td>0.329266</td>\n",
       "      <td>0.788252</td>\n",
       "      <td>0.324090</td>\n",
       "    </tr>\n",
       "    <tr>\n",
       "      <th>2016-01-03</th>\n",
       "      <td>1.106569</td>\n",
       "      <td>-1.186498</td>\n",
       "      <td>0.149952</td>\n",
       "      <td>0.455777</td>\n",
       "    </tr>\n",
       "    <tr>\n",
       "      <th>2016-01-04</th>\n",
       "      <td>-0.055588</td>\n",
       "      <td>0.022692</td>\n",
       "      <td>-0.811055</td>\n",
       "      <td>0.494865</td>\n",
       "    </tr>\n",
       "    <tr>\n",
       "      <th>2016-01-05</th>\n",
       "      <td>0.195484</td>\n",
       "      <td>0.137291</td>\n",
       "      <td>1.672395</td>\n",
       "      <td>-0.457097</td>\n",
       "    </tr>\n",
       "    <tr>\n",
       "      <th>2016-01-06</th>\n",
       "      <td>1.261299</td>\n",
       "      <td>0.796316</td>\n",
       "      <td>2.091776</td>\n",
       "      <td>-0.543367</td>\n",
       "    </tr>\n",
       "  </tbody>\n",
       "</table>\n",
       "</div>"
      ],
      "text/plain": [
       "                   A         B         C         D\n",
       "2016-01-01  0.699853 -0.825632 -0.798779  1.574983\n",
       "2016-01-02  0.967239  0.329266  0.788252  0.324090\n",
       "2016-01-03  1.106569 -1.186498  0.149952  0.455777\n",
       "2016-01-04 -0.055588  0.022692 -0.811055  0.494865\n",
       "2016-01-05  0.195484  0.137291  1.672395 -0.457097\n",
       "2016-01-06  1.261299  0.796316  2.091776 -0.543367"
      ]
     },
     "execution_count": 45,
     "metadata": {},
     "output_type": "execute_result"
    }
   ],
   "source": [
    "#Switch the columns and the index\n",
    "df=pd.DataFrame(np.random.randn(6,4), index=dates, columns=list('ABCD'))\n",
    "df"
   ]
  },
  {
   "cell_type": "markdown",
   "metadata": {},
   "source": [
    "Creating a DataFrame by passing a dict of objects that can be converted to series-like."
   ]
  },
  {
   "cell_type": "code",
   "execution_count": 46,
   "metadata": {
    "collapsed": false
   },
   "outputs": [
    {
     "data": {
      "text/html": [
       "<div>\n",
       "<table border=\"1\" class=\"dataframe\">\n",
       "  <thead>\n",
       "    <tr style=\"text-align: right;\">\n",
       "      <th></th>\n",
       "      <th>Category</th>\n",
       "      <th>Date</th>\n",
       "      <th>Rate</th>\n",
       "      <th>Ratio</th>\n",
       "      <th>Stock</th>\n",
       "      <th>Version</th>\n",
       "    </tr>\n",
       "  </thead>\n",
       "  <tbody>\n",
       "    <tr>\n",
       "      <th>0</th>\n",
       "      <td>Apple</td>\n",
       "      <td>2016-01-02</td>\n",
       "      <td>3</td>\n",
       "      <td>1.0</td>\n",
       "      <td>In stock</td>\n",
       "      <td>1.0</td>\n",
       "    </tr>\n",
       "    <tr>\n",
       "      <th>1</th>\n",
       "      <td>HP</td>\n",
       "      <td>2016-01-02</td>\n",
       "      <td>3</td>\n",
       "      <td>1.0</td>\n",
       "      <td>In stock</td>\n",
       "      <td>1.0</td>\n",
       "    </tr>\n",
       "    <tr>\n",
       "      <th>2</th>\n",
       "      <td>Microsoft</td>\n",
       "      <td>2016-01-02</td>\n",
       "      <td>3</td>\n",
       "      <td>1.0</td>\n",
       "      <td>In stock</td>\n",
       "      <td>1.0</td>\n",
       "    </tr>\n",
       "    <tr>\n",
       "      <th>3</th>\n",
       "      <td>IBM</td>\n",
       "      <td>2016-01-02</td>\n",
       "      <td>3</td>\n",
       "      <td>1.0</td>\n",
       "      <td>In stock</td>\n",
       "      <td>1.0</td>\n",
       "    </tr>\n",
       "  </tbody>\n",
       "</table>\n",
       "</div>"
      ],
      "text/plain": [
       "    Category       Date  Rate  Ratio     Stock  Version\n",
       "0      Apple 2016-01-02     3    1.0  In stock      1.0\n",
       "1         HP 2016-01-02     3    1.0  In stock      1.0\n",
       "2  Microsoft 2016-01-02     3    1.0  In stock      1.0\n",
       "3        IBM 2016-01-02     3    1.0  In stock      1.0"
      ]
     },
     "execution_count": 46,
     "metadata": {},
     "output_type": "execute_result"
    }
   ],
   "source": [
    "#Lexicographical order\n",
    "df2=pd.DataFrame({'Version':1.,\n",
    "                  'Date':pd.Timestamp('20160102'),\n",
    "                  'Ratio':pd.Series(1,index=list(range(4)),dtype='float32'),\n",
    "                  'Rate':np.array([3]*4,dtype='int32'),\n",
    "                  'Category':pd.Categorical(['Apple', 'HP','Microsoft','IBM']),\n",
    "                  'Stock':'In stock'})\n",
    "df2"
   ]
  },
  {
   "cell_type": "markdown",
   "metadata": {},
   "source": [
    "Having specific dtypes"
   ]
  },
  {
   "cell_type": "code",
   "execution_count": 47,
   "metadata": {
    "collapsed": false
   },
   "outputs": [
    {
     "data": {
      "text/plain": [
       "Category          category\n",
       "Date        datetime64[ns]\n",
       "Rate                 int32\n",
       "Ratio              float32\n",
       "Stock               object\n",
       "Version            float64\n",
       "dtype: object"
      ]
     },
     "execution_count": 47,
     "metadata": {},
     "output_type": "execute_result"
    }
   ],
   "source": [
    "df2.dtypes"
   ]
  },
  {
   "cell_type": "markdown",
   "metadata": {},
   "source": [
    "If using IPython, tab completion for column names (as well as public attributes) is automatically enabled. Here’s a subset of the attributes that will be completed:"
   ]
  },
  {
   "cell_type": "markdown",
   "metadata": {},
   "source": [
    "# Viewing Data"
   ]
  },
  {
   "cell_type": "markdown",
   "metadata": {},
   "source": [
    "See the top & bottom rows of the frame"
   ]
  },
  {
   "cell_type": "code",
   "execution_count": 48,
   "metadata": {
    "collapsed": false
   },
   "outputs": [
    {
     "data": {
      "text/html": [
       "<div>\n",
       "<table border=\"1\" class=\"dataframe\">\n",
       "  <thead>\n",
       "    <tr style=\"text-align: right;\">\n",
       "      <th></th>\n",
       "      <th>A</th>\n",
       "      <th>B</th>\n",
       "      <th>C</th>\n",
       "      <th>D</th>\n",
       "    </tr>\n",
       "  </thead>\n",
       "  <tbody>\n",
       "    <tr>\n",
       "      <th>2016-01-01</th>\n",
       "      <td>0.699853</td>\n",
       "      <td>-0.825632</td>\n",
       "      <td>-0.798779</td>\n",
       "      <td>1.574983</td>\n",
       "    </tr>\n",
       "    <tr>\n",
       "      <th>2016-01-02</th>\n",
       "      <td>0.967239</td>\n",
       "      <td>0.329266</td>\n",
       "      <td>0.788252</td>\n",
       "      <td>0.324090</td>\n",
       "    </tr>\n",
       "    <tr>\n",
       "      <th>2016-01-03</th>\n",
       "      <td>1.106569</td>\n",
       "      <td>-1.186498</td>\n",
       "      <td>0.149952</td>\n",
       "      <td>0.455777</td>\n",
       "    </tr>\n",
       "  </tbody>\n",
       "</table>\n",
       "</div>"
      ],
      "text/plain": [
       "                   A         B         C         D\n",
       "2016-01-01  0.699853 -0.825632 -0.798779  1.574983\n",
       "2016-01-02  0.967239  0.329266  0.788252  0.324090\n",
       "2016-01-03  1.106569 -1.186498  0.149952  0.455777"
      ]
     },
     "execution_count": 48,
     "metadata": {},
     "output_type": "execute_result"
    }
   ],
   "source": [
    "df.head(3)"
   ]
  },
  {
   "cell_type": "code",
   "execution_count": 49,
   "metadata": {
    "collapsed": false
   },
   "outputs": [
    {
     "data": {
      "text/html": [
       "<div>\n",
       "<table border=\"1\" class=\"dataframe\">\n",
       "  <thead>\n",
       "    <tr style=\"text-align: right;\">\n",
       "      <th></th>\n",
       "      <th>A</th>\n",
       "      <th>B</th>\n",
       "      <th>C</th>\n",
       "      <th>D</th>\n",
       "    </tr>\n",
       "  </thead>\n",
       "  <tbody>\n",
       "    <tr>\n",
       "      <th>2016-01-05</th>\n",
       "      <td>0.195484</td>\n",
       "      <td>0.137291</td>\n",
       "      <td>1.672395</td>\n",
       "      <td>-0.457097</td>\n",
       "    </tr>\n",
       "    <tr>\n",
       "      <th>2016-01-06</th>\n",
       "      <td>1.261299</td>\n",
       "      <td>0.796316</td>\n",
       "      <td>2.091776</td>\n",
       "      <td>-0.543367</td>\n",
       "    </tr>\n",
       "  </tbody>\n",
       "</table>\n",
       "</div>"
      ],
      "text/plain": [
       "                   A         B         C         D\n",
       "2016-01-05  0.195484  0.137291  1.672395 -0.457097\n",
       "2016-01-06  1.261299  0.796316  2.091776 -0.543367"
      ]
     },
     "execution_count": 49,
     "metadata": {},
     "output_type": "execute_result"
    }
   ],
   "source": [
    "df.tail(2)"
   ]
  },
  {
   "cell_type": "markdown",
   "metadata": {},
   "source": [
    "Display the index, columns, and the underlying numpy data"
   ]
  },
  {
   "cell_type": "code",
   "execution_count": 50,
   "metadata": {
    "collapsed": false
   },
   "outputs": [
    {
     "data": {
      "text/plain": [
       "DatetimeIndex(['2016-01-01', '2016-01-02', '2016-01-03', '2016-01-04',\n",
       "               '2016-01-05', '2016-01-06'],\n",
       "              dtype='datetime64[ns]', freq='D')"
      ]
     },
     "execution_count": 50,
     "metadata": {},
     "output_type": "execute_result"
    }
   ],
   "source": [
    "df.index"
   ]
  },
  {
   "cell_type": "code",
   "execution_count": 51,
   "metadata": {
    "collapsed": false
   },
   "outputs": [
    {
     "data": {
      "text/plain": [
       "Index([u'A', u'B', u'C', u'D'], dtype='object')"
      ]
     },
     "execution_count": 51,
     "metadata": {},
     "output_type": "execute_result"
    }
   ],
   "source": [
    "df.columns"
   ]
  },
  {
   "cell_type": "code",
   "execution_count": 53,
   "metadata": {
    "collapsed": false
   },
   "outputs": [
    {
     "data": {
      "text/plain": [
       "array([[ 0.6998529 , -0.82563242, -0.79877905,  1.57498347],\n",
       "       [ 0.96723928,  0.32926592,  0.78825244,  0.32408975],\n",
       "       [ 1.10656865, -1.1864981 ,  0.14995211,  0.45577722],\n",
       "       [-0.05558778,  0.02269174, -0.81105532,  0.49486507],\n",
       "       [ 0.195484  ,  0.13729109,  1.67239482, -0.45709735],\n",
       "       [ 1.26129911,  0.79631553,  2.09177588, -0.54336717]])"
      ]
     },
     "execution_count": 53,
     "metadata": {},
     "output_type": "execute_result"
    }
   ],
   "source": [
    "df.values"
   ]
  },
  {
   "cell_type": "code",
   "execution_count": 57,
   "metadata": {
    "collapsed": false
   },
   "outputs": [
    {
     "data": {
      "text/html": [
       "<div>\n",
       "<table border=\"1\" class=\"dataframe\">\n",
       "  <thead>\n",
       "    <tr style=\"text-align: right;\">\n",
       "      <th></th>\n",
       "      <th>A</th>\n",
       "      <th>B</th>\n",
       "      <th>C</th>\n",
       "      <th>D</th>\n",
       "    </tr>\n",
       "  </thead>\n",
       "  <tbody>\n",
       "    <tr>\n",
       "      <th>count</th>\n",
       "      <td>6.000000</td>\n",
       "      <td>6.000000</td>\n",
       "      <td>6.000000</td>\n",
       "      <td>6.000000</td>\n",
       "    </tr>\n",
       "    <tr>\n",
       "      <th>mean</th>\n",
       "      <td>0.695809</td>\n",
       "      <td>-0.121094</td>\n",
       "      <td>0.515423</td>\n",
       "      <td>0.308208</td>\n",
       "    </tr>\n",
       "    <tr>\n",
       "      <th>std</th>\n",
       "      <td>0.524808</td>\n",
       "      <td>0.743419</td>\n",
       "      <td>1.226226</td>\n",
       "      <td>0.771033</td>\n",
       "    </tr>\n",
       "    <tr>\n",
       "      <th>min</th>\n",
       "      <td>-0.055588</td>\n",
       "      <td>-1.186498</td>\n",
       "      <td>-0.811055</td>\n",
       "      <td>-0.543367</td>\n",
       "    </tr>\n",
       "    <tr>\n",
       "      <th>25%</th>\n",
       "      <td>0.321576</td>\n",
       "      <td>-0.613551</td>\n",
       "      <td>-0.561596</td>\n",
       "      <td>-0.261801</td>\n",
       "    </tr>\n",
       "    <tr>\n",
       "      <th>50%</th>\n",
       "      <td>0.833546</td>\n",
       "      <td>0.079991</td>\n",
       "      <td>0.469102</td>\n",
       "      <td>0.389933</td>\n",
       "    </tr>\n",
       "    <tr>\n",
       "      <th>75%</th>\n",
       "      <td>1.071736</td>\n",
       "      <td>0.281272</td>\n",
       "      <td>1.451359</td>\n",
       "      <td>0.485093</td>\n",
       "    </tr>\n",
       "    <tr>\n",
       "      <th>max</th>\n",
       "      <td>1.261299</td>\n",
       "      <td>0.796316</td>\n",
       "      <td>2.091776</td>\n",
       "      <td>1.574983</td>\n",
       "    </tr>\n",
       "  </tbody>\n",
       "</table>\n",
       "</div>"
      ],
      "text/plain": [
       "              A         B         C         D\n",
       "count  6.000000  6.000000  6.000000  6.000000\n",
       "mean   0.695809 -0.121094  0.515423  0.308208\n",
       "std    0.524808  0.743419  1.226226  0.771033\n",
       "min   -0.055588 -1.186498 -0.811055 -0.543367\n",
       "25%    0.321576 -0.613551 -0.561596 -0.261801\n",
       "50%    0.833546  0.079991  0.469102  0.389933\n",
       "75%    1.071736  0.281272  1.451359  0.485093\n",
       "max    1.261299  0.796316  2.091776  1.574983"
      ]
     },
     "execution_count": 57,
     "metadata": {},
     "output_type": "execute_result"
    }
   ],
   "source": [
    "#df.describe (without brackets/parentheses)will mess up the table\n",
    "#Describe shows a quick statistic summary of your data\n",
    "df.describe()"
   ]
  },
  {
   "cell_type": "markdown",
   "metadata": {},
   "source": [
    "Transposing your data"
   ]
  },
  {
   "cell_type": "code",
   "execution_count": 60,
   "metadata": {
    "collapsed": false
   },
   "outputs": [
    {
     "data": {
      "text/html": [
       "<div>\n",
       "<table border=\"1\" class=\"dataframe\">\n",
       "  <thead>\n",
       "    <tr style=\"text-align: right;\">\n",
       "      <th></th>\n",
       "      <th>A</th>\n",
       "      <th>B</th>\n",
       "      <th>C</th>\n",
       "      <th>D</th>\n",
       "    </tr>\n",
       "  </thead>\n",
       "  <tbody>\n",
       "    <tr>\n",
       "      <th>2016-01-01</th>\n",
       "      <td>0.699853</td>\n",
       "      <td>-0.825632</td>\n",
       "      <td>-0.798779</td>\n",
       "      <td>1.574983</td>\n",
       "    </tr>\n",
       "    <tr>\n",
       "      <th>2016-01-02</th>\n",
       "      <td>0.967239</td>\n",
       "      <td>0.329266</td>\n",
       "      <td>0.788252</td>\n",
       "      <td>0.324090</td>\n",
       "    </tr>\n",
       "    <tr>\n",
       "      <th>2016-01-03</th>\n",
       "      <td>1.106569</td>\n",
       "      <td>-1.186498</td>\n",
       "      <td>0.149952</td>\n",
       "      <td>0.455777</td>\n",
       "    </tr>\n",
       "    <tr>\n",
       "      <th>2016-01-04</th>\n",
       "      <td>-0.055588</td>\n",
       "      <td>0.022692</td>\n",
       "      <td>-0.811055</td>\n",
       "      <td>0.494865</td>\n",
       "    </tr>\n",
       "    <tr>\n",
       "      <th>2016-01-05</th>\n",
       "      <td>0.195484</td>\n",
       "      <td>0.137291</td>\n",
       "      <td>1.672395</td>\n",
       "      <td>-0.457097</td>\n",
       "    </tr>\n",
       "    <tr>\n",
       "      <th>2016-01-06</th>\n",
       "      <td>1.261299</td>\n",
       "      <td>0.796316</td>\n",
       "      <td>2.091776</td>\n",
       "      <td>-0.543367</td>\n",
       "    </tr>\n",
       "  </tbody>\n",
       "</table>\n",
       "</div>"
      ],
      "text/plain": [
       "                   A         B         C         D\n",
       "2016-01-01  0.699853 -0.825632 -0.798779  1.574983\n",
       "2016-01-02  0.967239  0.329266  0.788252  0.324090\n",
       "2016-01-03  1.106569 -1.186498  0.149952  0.455777\n",
       "2016-01-04 -0.055588  0.022692 -0.811055  0.494865\n",
       "2016-01-05  0.195484  0.137291  1.672395 -0.457097\n",
       "2016-01-06  1.261299  0.796316  2.091776 -0.543367"
      ]
     },
     "execution_count": 60,
     "metadata": {},
     "output_type": "execute_result"
    }
   ],
   "source": [
    "#original table\n",
    "df"
   ]
  },
  {
   "cell_type": "code",
   "execution_count": 61,
   "metadata": {
    "collapsed": false
   },
   "outputs": [
    {
     "data": {
      "text/html": [
       "<div>\n",
       "<table border=\"1\" class=\"dataframe\">\n",
       "  <thead>\n",
       "    <tr style=\"text-align: right;\">\n",
       "      <th></th>\n",
       "      <th>2016-01-01 00:00:00</th>\n",
       "      <th>2016-01-02 00:00:00</th>\n",
       "      <th>2016-01-03 00:00:00</th>\n",
       "      <th>2016-01-04 00:00:00</th>\n",
       "      <th>2016-01-05 00:00:00</th>\n",
       "      <th>2016-01-06 00:00:00</th>\n",
       "    </tr>\n",
       "  </thead>\n",
       "  <tbody>\n",
       "    <tr>\n",
       "      <th>A</th>\n",
       "      <td>0.699853</td>\n",
       "      <td>0.967239</td>\n",
       "      <td>1.106569</td>\n",
       "      <td>-0.055588</td>\n",
       "      <td>0.195484</td>\n",
       "      <td>1.261299</td>\n",
       "    </tr>\n",
       "    <tr>\n",
       "      <th>B</th>\n",
       "      <td>-0.825632</td>\n",
       "      <td>0.329266</td>\n",
       "      <td>-1.186498</td>\n",
       "      <td>0.022692</td>\n",
       "      <td>0.137291</td>\n",
       "      <td>0.796316</td>\n",
       "    </tr>\n",
       "    <tr>\n",
       "      <th>C</th>\n",
       "      <td>-0.798779</td>\n",
       "      <td>0.788252</td>\n",
       "      <td>0.149952</td>\n",
       "      <td>-0.811055</td>\n",
       "      <td>1.672395</td>\n",
       "      <td>2.091776</td>\n",
       "    </tr>\n",
       "    <tr>\n",
       "      <th>D</th>\n",
       "      <td>1.574983</td>\n",
       "      <td>0.324090</td>\n",
       "      <td>0.455777</td>\n",
       "      <td>0.494865</td>\n",
       "      <td>-0.457097</td>\n",
       "      <td>-0.543367</td>\n",
       "    </tr>\n",
       "  </tbody>\n",
       "</table>\n",
       "</div>"
      ],
      "text/plain": [
       "   2016-01-01  2016-01-02  2016-01-03  2016-01-04  2016-01-05  2016-01-06\n",
       "A    0.699853    0.967239    1.106569   -0.055588    0.195484    1.261299\n",
       "B   -0.825632    0.329266   -1.186498    0.022692    0.137291    0.796316\n",
       "C   -0.798779    0.788252    0.149952   -0.811055    1.672395    2.091776\n",
       "D    1.574983    0.324090    0.455777    0.494865   -0.457097   -0.543367"
      ]
     },
     "execution_count": 61,
     "metadata": {},
     "output_type": "execute_result"
    }
   ],
   "source": [
    "#After Transposition\n",
    "df.T"
   ]
  },
  {
   "cell_type": "markdown",
   "metadata": {},
   "source": [
    "Sorting by an axis"
   ]
  },
  {
   "cell_type": "code",
   "execution_count": 63,
   "metadata": {
    "collapsed": false
   },
   "outputs": [
    {
     "data": {
      "text/html": [
       "<div>\n",
       "<table border=\"1\" class=\"dataframe\">\n",
       "  <thead>\n",
       "    <tr style=\"text-align: right;\">\n",
       "      <th></th>\n",
       "      <th>D</th>\n",
       "      <th>C</th>\n",
       "      <th>B</th>\n",
       "      <th>A</th>\n",
       "    </tr>\n",
       "  </thead>\n",
       "  <tbody>\n",
       "    <tr>\n",
       "      <th>2016-01-01</th>\n",
       "      <td>1.574983</td>\n",
       "      <td>-0.798779</td>\n",
       "      <td>-0.825632</td>\n",
       "      <td>0.699853</td>\n",
       "    </tr>\n",
       "    <tr>\n",
       "      <th>2016-01-02</th>\n",
       "      <td>0.324090</td>\n",
       "      <td>0.788252</td>\n",
       "      <td>0.329266</td>\n",
       "      <td>0.967239</td>\n",
       "    </tr>\n",
       "    <tr>\n",
       "      <th>2016-01-03</th>\n",
       "      <td>0.455777</td>\n",
       "      <td>0.149952</td>\n",
       "      <td>-1.186498</td>\n",
       "      <td>1.106569</td>\n",
       "    </tr>\n",
       "    <tr>\n",
       "      <th>2016-01-04</th>\n",
       "      <td>0.494865</td>\n",
       "      <td>-0.811055</td>\n",
       "      <td>0.022692</td>\n",
       "      <td>-0.055588</td>\n",
       "    </tr>\n",
       "    <tr>\n",
       "      <th>2016-01-05</th>\n",
       "      <td>-0.457097</td>\n",
       "      <td>1.672395</td>\n",
       "      <td>0.137291</td>\n",
       "      <td>0.195484</td>\n",
       "    </tr>\n",
       "    <tr>\n",
       "      <th>2016-01-06</th>\n",
       "      <td>-0.543367</td>\n",
       "      <td>2.091776</td>\n",
       "      <td>0.796316</td>\n",
       "      <td>1.261299</td>\n",
       "    </tr>\n",
       "  </tbody>\n",
       "</table>\n",
       "</div>"
      ],
      "text/plain": [
       "                   D         C         B         A\n",
       "2016-01-01  1.574983 -0.798779 -0.825632  0.699853\n",
       "2016-01-02  0.324090  0.788252  0.329266  0.967239\n",
       "2016-01-03  0.455777  0.149952 -1.186498  1.106569\n",
       "2016-01-04  0.494865 -0.811055  0.022692 -0.055588\n",
       "2016-01-05 -0.457097  1.672395  0.137291  0.195484\n",
       "2016-01-06 -0.543367  2.091776  0.796316  1.261299"
      ]
     },
     "execution_count": 63,
     "metadata": {},
     "output_type": "execute_result"
    }
   ],
   "source": [
    "df.sort_index(axis=1, ascending=False)"
   ]
  },
  {
   "cell_type": "markdown",
   "metadata": {},
   "source": [
    "Sorting by values"
   ]
  },
  {
   "cell_type": "code",
   "execution_count": 64,
   "metadata": {
    "collapsed": false
   },
   "outputs": [
    {
     "data": {
      "text/html": [
       "<div>\n",
       "<table border=\"1\" class=\"dataframe\">\n",
       "  <thead>\n",
       "    <tr style=\"text-align: right;\">\n",
       "      <th></th>\n",
       "      <th>A</th>\n",
       "      <th>B</th>\n",
       "      <th>C</th>\n",
       "      <th>D</th>\n",
       "    </tr>\n",
       "  </thead>\n",
       "  <tbody>\n",
       "    <tr>\n",
       "      <th>2016-01-03</th>\n",
       "      <td>1.106569</td>\n",
       "      <td>-1.186498</td>\n",
       "      <td>0.149952</td>\n",
       "      <td>0.455777</td>\n",
       "    </tr>\n",
       "    <tr>\n",
       "      <th>2016-01-01</th>\n",
       "      <td>0.699853</td>\n",
       "      <td>-0.825632</td>\n",
       "      <td>-0.798779</td>\n",
       "      <td>1.574983</td>\n",
       "    </tr>\n",
       "    <tr>\n",
       "      <th>2016-01-04</th>\n",
       "      <td>-0.055588</td>\n",
       "      <td>0.022692</td>\n",
       "      <td>-0.811055</td>\n",
       "      <td>0.494865</td>\n",
       "    </tr>\n",
       "    <tr>\n",
       "      <th>2016-01-05</th>\n",
       "      <td>0.195484</td>\n",
       "      <td>0.137291</td>\n",
       "      <td>1.672395</td>\n",
       "      <td>-0.457097</td>\n",
       "    </tr>\n",
       "    <tr>\n",
       "      <th>2016-01-02</th>\n",
       "      <td>0.967239</td>\n",
       "      <td>0.329266</td>\n",
       "      <td>0.788252</td>\n",
       "      <td>0.324090</td>\n",
       "    </tr>\n",
       "    <tr>\n",
       "      <th>2016-01-06</th>\n",
       "      <td>1.261299</td>\n",
       "      <td>0.796316</td>\n",
       "      <td>2.091776</td>\n",
       "      <td>-0.543367</td>\n",
       "    </tr>\n",
       "  </tbody>\n",
       "</table>\n",
       "</div>"
      ],
      "text/plain": [
       "                   A         B         C         D\n",
       "2016-01-03  1.106569 -1.186498  0.149952  0.455777\n",
       "2016-01-01  0.699853 -0.825632 -0.798779  1.574983\n",
       "2016-01-04 -0.055588  0.022692 -0.811055  0.494865\n",
       "2016-01-05  0.195484  0.137291  1.672395 -0.457097\n",
       "2016-01-02  0.967239  0.329266  0.788252  0.324090\n",
       "2016-01-06  1.261299  0.796316  2.091776 -0.543367"
      ]
     },
     "execution_count": 64,
     "metadata": {},
     "output_type": "execute_result"
    }
   ],
   "source": [
    "df.sort_values(by='B')"
   ]
  },
  {
   "cell_type": "code",
   "execution_count": 66,
   "metadata": {
    "collapsed": false
   },
   "outputs": [
    {
     "data": {
      "text/html": [
       "<div>\n",
       "<table border=\"1\" class=\"dataframe\">\n",
       "  <thead>\n",
       "    <tr style=\"text-align: right;\">\n",
       "      <th></th>\n",
       "      <th>A</th>\n",
       "      <th>B</th>\n",
       "      <th>C</th>\n",
       "      <th>D</th>\n",
       "    </tr>\n",
       "  </thead>\n",
       "  <tbody>\n",
       "    <tr>\n",
       "      <th>2016-01-06</th>\n",
       "      <td>1.261299</td>\n",
       "      <td>0.796316</td>\n",
       "      <td>2.091776</td>\n",
       "      <td>-0.543367</td>\n",
       "    </tr>\n",
       "    <tr>\n",
       "      <th>2016-01-02</th>\n",
       "      <td>0.967239</td>\n",
       "      <td>0.329266</td>\n",
       "      <td>0.788252</td>\n",
       "      <td>0.324090</td>\n",
       "    </tr>\n",
       "    <tr>\n",
       "      <th>2016-01-05</th>\n",
       "      <td>0.195484</td>\n",
       "      <td>0.137291</td>\n",
       "      <td>1.672395</td>\n",
       "      <td>-0.457097</td>\n",
       "    </tr>\n",
       "    <tr>\n",
       "      <th>2016-01-04</th>\n",
       "      <td>-0.055588</td>\n",
       "      <td>0.022692</td>\n",
       "      <td>-0.811055</td>\n",
       "      <td>0.494865</td>\n",
       "    </tr>\n",
       "    <tr>\n",
       "      <th>2016-01-01</th>\n",
       "      <td>0.699853</td>\n",
       "      <td>-0.825632</td>\n",
       "      <td>-0.798779</td>\n",
       "      <td>1.574983</td>\n",
       "    </tr>\n",
       "    <tr>\n",
       "      <th>2016-01-03</th>\n",
       "      <td>1.106569</td>\n",
       "      <td>-1.186498</td>\n",
       "      <td>0.149952</td>\n",
       "      <td>0.455777</td>\n",
       "    </tr>\n",
       "  </tbody>\n",
       "</table>\n",
       "</div>"
      ],
      "text/plain": [
       "                   A         B         C         D\n",
       "2016-01-06  1.261299  0.796316  2.091776 -0.543367\n",
       "2016-01-02  0.967239  0.329266  0.788252  0.324090\n",
       "2016-01-05  0.195484  0.137291  1.672395 -0.457097\n",
       "2016-01-04 -0.055588  0.022692 -0.811055  0.494865\n",
       "2016-01-01  0.699853 -0.825632 -0.798779  1.574983\n",
       "2016-01-03  1.106569 -1.186498  0.149952  0.455777"
      ]
     },
     "execution_count": 66,
     "metadata": {},
     "output_type": "execute_result"
    }
   ],
   "source": [
    "df.sort_values(by='B', ascending=False)"
   ]
  },
  {
   "cell_type": "markdown",
   "metadata": {},
   "source": [
    "# Selection"
   ]
  },
  {
   "cell_type": "markdown",
   "metadata": {},
   "source": [
    "Getting\n",
    "------------\n",
    "Selecting a single column, which yields a Series, equivalent to df.A"
   ]
  },
  {
   "cell_type": "code",
   "execution_count": 68,
   "metadata": {
    "collapsed": false
   },
   "outputs": [
    {
     "data": {
      "text/plain": [
       "2016-01-01    0.699853\n",
       "2016-01-02    0.967239\n",
       "2016-01-03    1.106569\n",
       "2016-01-04   -0.055588\n",
       "2016-01-05    0.195484\n",
       "2016-01-06    1.261299\n",
       "Freq: D, Name: A, dtype: float64"
      ]
     },
     "execution_count": 68,
     "metadata": {},
     "output_type": "execute_result"
    }
   ],
   "source": [
    "#print with index\n",
    "df['A']"
   ]
  },
  {
   "cell_type": "markdown",
   "metadata": {},
   "source": [
    "Selecting via [ ], which slices the rows."
   ]
  },
  {
   "cell_type": "code",
   "execution_count": 69,
   "metadata": {
    "collapsed": false
   },
   "outputs": [
    {
     "data": {
      "text/html": [
       "<div>\n",
       "<table border=\"1\" class=\"dataframe\">\n",
       "  <thead>\n",
       "    <tr style=\"text-align: right;\">\n",
       "      <th></th>\n",
       "      <th>A</th>\n",
       "      <th>B</th>\n",
       "      <th>C</th>\n",
       "      <th>D</th>\n",
       "    </tr>\n",
       "  </thead>\n",
       "  <tbody>\n",
       "    <tr>\n",
       "      <th>2016-01-01</th>\n",
       "      <td>0.699853</td>\n",
       "      <td>-0.825632</td>\n",
       "      <td>-0.798779</td>\n",
       "      <td>1.574983</td>\n",
       "    </tr>\n",
       "    <tr>\n",
       "      <th>2016-01-02</th>\n",
       "      <td>0.967239</td>\n",
       "      <td>0.329266</td>\n",
       "      <td>0.788252</td>\n",
       "      <td>0.324090</td>\n",
       "    </tr>\n",
       "    <tr>\n",
       "      <th>2016-01-03</th>\n",
       "      <td>1.106569</td>\n",
       "      <td>-1.186498</td>\n",
       "      <td>0.149952</td>\n",
       "      <td>0.455777</td>\n",
       "    </tr>\n",
       "  </tbody>\n",
       "</table>\n",
       "</div>"
      ],
      "text/plain": [
       "                   A         B         C         D\n",
       "2016-01-01  0.699853 -0.825632 -0.798779  1.574983\n",
       "2016-01-02  0.967239  0.329266  0.788252  0.324090\n",
       "2016-01-03  1.106569 -1.186498  0.149952  0.455777"
      ]
     },
     "execution_count": 69,
     "metadata": {},
     "output_type": "execute_result"
    }
   ],
   "source": [
    "df[0:3]"
   ]
  },
  {
   "cell_type": "code",
   "execution_count": 71,
   "metadata": {
    "collapsed": false
   },
   "outputs": [
    {
     "data": {
      "text/html": [
       "<div>\n",
       "<table border=\"1\" class=\"dataframe\">\n",
       "  <thead>\n",
       "    <tr style=\"text-align: right;\">\n",
       "      <th></th>\n",
       "      <th>A</th>\n",
       "      <th>B</th>\n",
       "      <th>C</th>\n",
       "      <th>D</th>\n",
       "    </tr>\n",
       "  </thead>\n",
       "  <tbody>\n",
       "    <tr>\n",
       "      <th>2016-01-02</th>\n",
       "      <td>0.967239</td>\n",
       "      <td>0.329266</td>\n",
       "      <td>0.788252</td>\n",
       "      <td>0.324090</td>\n",
       "    </tr>\n",
       "    <tr>\n",
       "      <th>2016-01-03</th>\n",
       "      <td>1.106569</td>\n",
       "      <td>-1.186498</td>\n",
       "      <td>0.149952</td>\n",
       "      <td>0.455777</td>\n",
       "    </tr>\n",
       "    <tr>\n",
       "      <th>2016-01-04</th>\n",
       "      <td>-0.055588</td>\n",
       "      <td>0.022692</td>\n",
       "      <td>-0.811055</td>\n",
       "      <td>0.494865</td>\n",
       "    </tr>\n",
       "  </tbody>\n",
       "</table>\n",
       "</div>"
      ],
      "text/plain": [
       "                   A         B         C         D\n",
       "2016-01-02  0.967239  0.329266  0.788252  0.324090\n",
       "2016-01-03  1.106569 -1.186498  0.149952  0.455777\n",
       "2016-01-04 -0.055588  0.022692 -0.811055  0.494865"
      ]
     },
     "execution_count": 71,
     "metadata": {},
     "output_type": "execute_result"
    }
   ],
   "source": [
    "#Don't forget the single quotes or single quotation\n",
    "df['20160102':'20160104']"
   ]
  },
  {
   "cell_type": "markdown",
   "metadata": {},
   "source": [
    "Selection by Label\n",
    "-------\n",
    "For getting a cross section using a label"
   ]
  },
  {
   "cell_type": "code",
   "execution_count": 73,
   "metadata": {
    "collapsed": false
   },
   "outputs": [
    {
     "data": {
      "text/plain": [
       "A    0.967239\n",
       "B    0.329266\n",
       "C    0.788252\n",
       "D    0.324090\n",
       "Name: 2016-01-02 00:00:00, dtype: float64"
      ]
     },
     "execution_count": 73,
     "metadata": {},
     "output_type": "execute_result"
    }
   ],
   "source": [
    "#select the first row value with dates[0]\n",
    "df.loc[dates[01]]"
   ]
  },
  {
   "cell_type": "markdown",
   "metadata": {},
   "source": [
    "Selecting on a multi-axis by label"
   ]
  },
  {
   "cell_type": "code",
   "execution_count": 74,
   "metadata": {
    "collapsed": false
   },
   "outputs": [
    {
     "data": {
      "text/html": [
       "<div>\n",
       "<table border=\"1\" class=\"dataframe\">\n",
       "  <thead>\n",
       "    <tr style=\"text-align: right;\">\n",
       "      <th></th>\n",
       "      <th>A</th>\n",
       "      <th>B</th>\n",
       "    </tr>\n",
       "  </thead>\n",
       "  <tbody>\n",
       "    <tr>\n",
       "      <th>2016-01-01</th>\n",
       "      <td>0.699853</td>\n",
       "      <td>-0.825632</td>\n",
       "    </tr>\n",
       "    <tr>\n",
       "      <th>2016-01-02</th>\n",
       "      <td>0.967239</td>\n",
       "      <td>0.329266</td>\n",
       "    </tr>\n",
       "    <tr>\n",
       "      <th>2016-01-03</th>\n",
       "      <td>1.106569</td>\n",
       "      <td>-1.186498</td>\n",
       "    </tr>\n",
       "    <tr>\n",
       "      <th>2016-01-04</th>\n",
       "      <td>-0.055588</td>\n",
       "      <td>0.022692</td>\n",
       "    </tr>\n",
       "    <tr>\n",
       "      <th>2016-01-05</th>\n",
       "      <td>0.195484</td>\n",
       "      <td>0.137291</td>\n",
       "    </tr>\n",
       "    <tr>\n",
       "      <th>2016-01-06</th>\n",
       "      <td>1.261299</td>\n",
       "      <td>0.796316</td>\n",
       "    </tr>\n",
       "  </tbody>\n",
       "</table>\n",
       "</div>"
      ],
      "text/plain": [
       "                   A         B\n",
       "2016-01-01  0.699853 -0.825632\n",
       "2016-01-02  0.967239  0.329266\n",
       "2016-01-03  1.106569 -1.186498\n",
       "2016-01-04 -0.055588  0.022692\n",
       "2016-01-05  0.195484  0.137291\n",
       "2016-01-06  1.261299  0.796316"
      ]
     },
     "execution_count": 74,
     "metadata": {},
     "output_type": "execute_result"
    }
   ],
   "source": [
    "df.loc[:,['A','B']]"
   ]
  },
  {
   "cell_type": "markdown",
   "metadata": {},
   "source": [
    "Showing label slicing, both endpoints are included\n",
    "\n"
   ]
  },
  {
   "cell_type": "code",
   "execution_count": 76,
   "metadata": {
    "collapsed": false
   },
   "outputs": [
    {
     "data": {
      "text/html": [
       "<div>\n",
       "<table border=\"1\" class=\"dataframe\">\n",
       "  <thead>\n",
       "    <tr style=\"text-align: right;\">\n",
       "      <th></th>\n",
       "      <th>A</th>\n",
       "      <th>B</th>\n",
       "    </tr>\n",
       "  </thead>\n",
       "  <tbody>\n",
       "    <tr>\n",
       "      <th>2016-01-02</th>\n",
       "      <td>0.967239</td>\n",
       "      <td>0.329266</td>\n",
       "    </tr>\n",
       "    <tr>\n",
       "      <th>2016-01-03</th>\n",
       "      <td>1.106569</td>\n",
       "      <td>-1.186498</td>\n",
       "    </tr>\n",
       "    <tr>\n",
       "      <th>2016-01-04</th>\n",
       "      <td>-0.055588</td>\n",
       "      <td>0.022692</td>\n",
       "    </tr>\n",
       "  </tbody>\n",
       "</table>\n",
       "</div>"
      ],
      "text/plain": [
       "                   A         B\n",
       "2016-01-02  0.967239  0.329266\n",
       "2016-01-03  1.106569 -1.186498\n",
       "2016-01-04 -0.055588  0.022692"
      ]
     },
     "execution_count": 76,
     "metadata": {},
     "output_type": "execute_result"
    }
   ],
   "source": [
    "df.loc['20160102':'20160104',['A','B']]"
   ]
  },
  {
   "cell_type": "markdown",
   "metadata": {},
   "source": [
    "Reduction in the dimensions of the returned object"
   ]
  },
  {
   "cell_type": "code",
   "execution_count": 77,
   "metadata": {
    "collapsed": false
   },
   "outputs": [
    {
     "data": {
      "text/plain": [
       "A    0.967239\n",
       "B    0.329266\n",
       "Name: 2016-01-02 00:00:00, dtype: float64"
      ]
     },
     "execution_count": 77,
     "metadata": {},
     "output_type": "execute_result"
    }
   ],
   "source": [
    "#Select the values at 20160102 and columns A&B\n",
    "df.loc['20160102',['A','B']]"
   ]
  },
  {
   "cell_type": "markdown",
   "metadata": {},
   "source": [
    "For getting a scalar value"
   ]
  },
  {
   "cell_type": "code",
   "execution_count": 79,
   "metadata": {
    "collapsed": false
   },
   "outputs": [
    {
     "data": {
      "text/plain": [
       "0.69985290496301211"
      ]
     },
     "execution_count": 79,
     "metadata": {},
     "output_type": "execute_result"
    }
   ],
   "source": [
    "df.loc[dates[0],'A']"
   ]
  },
  {
   "cell_type": "markdown",
   "metadata": {},
   "source": [
    "For getting fast access to a scalar (equiv to the prior method)"
   ]
  },
  {
   "cell_type": "code",
   "execution_count": 80,
   "metadata": {
    "collapsed": false
   },
   "outputs": [
    {
     "data": {
      "text/plain": [
       "0.69985290496301211"
      ]
     },
     "execution_count": 80,
     "metadata": {},
     "output_type": "execute_result"
    }
   ],
   "source": [
    "df.at[dates[0],'A']"
   ]
  },
  {
   "cell_type": "markdown",
   "metadata": {},
   "source": [
    "...See Pandas_Data_2"
   ]
  }
 ],
 "metadata": {
  "kernelspec": {
   "display_name": "Python 2",
   "language": "python",
   "name": "python2"
  },
  "language_info": {
   "codemirror_mode": {
    "name": "ipython",
    "version": 2
   },
   "file_extension": ".py",
   "mimetype": "text/x-python",
   "name": "python",
   "nbconvert_exporter": "python",
   "pygments_lexer": "ipython2",
   "version": "2.7.11"
  }
 },
 "nbformat": 4,
 "nbformat_minor": 0
}
