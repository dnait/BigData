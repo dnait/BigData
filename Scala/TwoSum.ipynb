{
 "cells": [
  {
   "cell_type": "raw",
   "metadata": {},
   "source": [
    "1.TwoSum\n",
    "Given nums = [2, 7, 11, 15], target = 9,\n",
    "Because nums[0] + nums[1] = 2 + 7 = 9,\n",
    "return [0, 1]."
   ]
  },
  {
   "cell_type": "code",
   "execution_count": null,
   "metadata": {
    "collapsed": true
   },
   "outputs": [],
   "source": [
    "#Java space O(n) time O(n)\n",
    "public class Solution {\n",
    "    public int[] twoSum(int[] nums, int target) {\n",
    "        int[] res = new int[2];\n",
    "        Map<Integer, Integer> map = new HashMap<>();\n",
    "        for (int i = 0; i < nums.length; i++) {\n",
    "            int j = target - nums[i];\n",
    "            if (map.containsKey(j)) {\n",
    "                return new int[]{map.get(j), i};\n",
    "            }\n",
    "            map.put(nums[i],i);\n",
    "        }\n",
    "        return res;\n",
    "    }\n",
    "}"
   ]
  },
  {
   "cell_type": "code",
   "execution_count": null,
   "metadata": {
    "collapsed": true
   },
   "outputs": [],
   "source": [
    "#Python\n",
    "# @return a tuple, (index1, index2)\n",
    "class Solution(object):\n",
    "    def twoSum(self, nums, target):\n",
    "        \"\"\"\n",
    "        :type nums: List[int]\n",
    "        :type target: int\n",
    "        :rtype: List[int]\n",
    "        \"\"\"        \n",
    "        dict={}\n",
    "        for i in xrange(len(nums)):\n",
    "            x = nums[i]\n",
    "            if target-x in dict:\n",
    "                return (dict[target-x], i)\n",
    "            dict[x] = i"
   ]
  },
  {
   "cell_type": "code",
   "execution_count": null,
   "metadata": {
    "collapsed": true
   },
   "outputs": [],
   "source": [
    "#Scala\n",
    "package ScalaHandsOn\n",
    "\n",
    "object LC1TwoSum {\n",
    "  def main(args: Array[String]) {\n",
    "    var myList = Array(11, 7, 2, 15)\n",
    "    val target = 9\n",
    "    val result: Array[Int] = TwoSum(myList,target)\n",
    "\n",
    "    #mkString will convert collections (including Array) element-by-element to string representations.\n",
    "    #println(a.mkString(\",\"))\n",
    "    print(\"result \" + result.mkString(\",\"))\n",
    "  }\n",
    "   \n",
    "  def TwoSum(x: Array[Int], target: Int) : Array[Int] = {\n",
    "    var res = new Array[Int](2)     \n",
    "    var maps = collection.mutable.Map[Int, Int]()\n",
    "    \n",
    "    for ( i: Int <-  x.indices) {\n",
    "      var j = target - x(i)\n",
    "      if (maps.contains(j)) {\n",
    "        res(0) = maps(j)\n",
    "        res(1) = i\n",
    "      } else \n",
    "        maps += (x(i) -> i)\n",
    "    }    \n",
    "   res\n",
    "  }\n",
    "}\n",
    "\n",
    "#output: result= 1,2"
   ]
  }
 ],
 "metadata": {
  "kernelspec": {
   "display_name": "Python 2",
   "language": "python",
   "name": "python2"
  },
  "language_info": {
   "codemirror_mode": {
    "name": "ipython",
    "version": 2
   },
   "file_extension": ".py",
   "mimetype": "text/x-python",
   "name": "python",
   "nbconvert_exporter": "python",
   "pygments_lexer": "ipython2",
   "version": "2.7.11"
  }
 },
 "nbformat": 4,
 "nbformat_minor": 0
}
