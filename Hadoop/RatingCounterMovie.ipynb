{
 "cells": [
  {
   "cell_type": "markdown",
   "metadata": {},
   "source": [
    "Rating Counter\n",
    "-----\n",
    "Aim: To count the rating of the movie\n",
    "\n",
    "DataSet:\n",
    "We'll start by loading up the MovieLens dataset. ml-100k.zip (size: 5 MB) http://grouplens.org/datasets/movielens/\n",
    "\n",
    "\n",
    "Tools:\n",
    "Enthought Canopy:https://store.enthought.com/downloads/#default"
   ]
  },
  {
   "cell_type": "markdown",
   "metadata": {
    "collapsed": false
   },
   "source": [
    "Open Canopy, chose Editor, down the botton(Python console), type command: "
   ]
  },
  {
   "cell_type": "code",
   "execution_count": 34,
   "metadata": {
    "collapsed": false
   },
   "outputs": [
    {
     "name": "stdout",
     "output_type": "stream",
     "text": [
      "Requirement already satisfied (use --upgrade to upgrade): mrjob in /Users/grace/Canopy/User/lib/python2.7/site-packages\n",
      "Requirement already satisfied (use --upgrade to upgrade): google-api-python-client>=1.5.0 in /Users/grace/Canopy/User/lib/python2.7/site-packages (from mrjob)\n",
      "Requirement already satisfied (use --upgrade to upgrade): filechunkio in /Users/grace/Canopy/User/lib/python2.7/site-packages (from mrjob)\n",
      "Requirement already satisfied (use --upgrade to upgrade): PyYAML>=3.08 in /Applications/Canopy.app/appdata/canopy-1.7.4.3348.macosx-x86_64/Canopy.app/Contents/lib/python2.7/site-packages (from mrjob)\n",
      "Requirement already satisfied (use --upgrade to upgrade): boto>=2.35.0 in /Applications/Canopy.app/appdata/canopy-1.7.4.3348.macosx-x86_64/Canopy.app/Contents/lib/python2.7/site-packages (from mrjob)\n",
      "Requirement already satisfied (use --upgrade to upgrade): uritemplate<1,>=0.6 in /Users/grace/Canopy/User/lib/python2.7/site-packages (from google-api-python-client>=1.5.0->mrjob)\n",
      "Requirement already satisfied (use --upgrade to upgrade): oauth2client<4.0.0,>=1.5.0 in /Users/grace/Canopy/User/lib/python2.7/site-packages (from google-api-python-client>=1.5.0->mrjob)\n",
      "Requirement already satisfied (use --upgrade to upgrade): six<2,>=1.6.1 in /Users/grace/Canopy/User/lib/python2.7/site-packages (from google-api-python-client>=1.5.0->mrjob)\n",
      "Requirement already satisfied (use --upgrade to upgrade): httplib2<1,>=0.8 in /Users/grace/Canopy/User/lib/python2.7/site-packages (from google-api-python-client>=1.5.0->mrjob)\n",
      "Requirement already satisfied (use --upgrade to upgrade): simplejson>=2.5.0 in /Users/grace/Canopy/User/lib/python2.7/site-packages (from uritemplate<1,>=0.6->google-api-python-client>=1.5.0->mrjob)\n",
      "Requirement already satisfied (use --upgrade to upgrade): pyasn1>=0.1.7 in /Applications/Canopy.app/appdata/canopy-1.7.4.3348.macosx-x86_64/Canopy.app/Contents/lib/python2.7/site-packages (from oauth2client<4.0.0,>=1.5.0->google-api-python-client>=1.5.0->mrjob)\n",
      "Requirement already satisfied (use --upgrade to upgrade): pyasn1-modules>=0.0.5 in /Users/grace/Canopy/User/lib/python2.7/site-packages (from oauth2client<4.0.0,>=1.5.0->google-api-python-client>=1.5.0->mrjob)\n",
      "Requirement already satisfied (use --upgrade to upgrade): rsa>=3.1.4 in /Users/grace/Canopy/User/lib/python2.7/site-packages (from oauth2client<4.0.0,>=1.5.0->google-api-python-client>=1.5.0->mrjob)\n"
     ]
    }
   ],
   "source": [
    "!pip install mrjob"
   ]
  },
  {
   "cell_type": "markdown",
   "metadata": {
    "collapsed": false
   },
   "source": [
    "Create a new file name: RatingCounter.py"
   ]
  },
  {
   "cell_type": "code",
   "execution_count": null,
   "metadata": {
    "collapsed": true
   },
   "outputs": [],
   "source": [
    "from mrjob.job import MRJob\n",
    "\n",
    "class MRRatingCounter(MRJob):\n",
    "    def mapper(self, key, line):\n",
    "        (userID, movieID, rating, timestamp) = line.split('\\t')\n",
    "        yield rating, 1\n",
    "        \n",
    "    def reducer(self, rating, occurences):\n",
    "        yield rating, sum(occurences)\n",
    "        \n",
    "if __name__ == '__main__':\n",
    "    MRRatingCounter.run()\n",
    "    "
   ]
  },
  {
   "cell_type": "markdown",
   "metadata": {},
   "source": [
    " Down the botton(Python console), type command:"
   ]
  },
  {
   "cell_type": "code",
   "execution_count": null,
   "metadata": {
    "collapsed": true
   },
   "outputs": [],
   "source": [
    "!python RatingCounter.py ml-100k/u.data"
   ]
  },
  {
   "cell_type": "markdown",
   "metadata": {},
   "source": [
    "/Users/grace/Canopy/User/Resources/Python.app/Contents/MacOS/Python: can't open file 'rating-counter.py': [Errno 2] No such file or directory\n",
    "Path is incorrect.\n",
    "    "
   ]
  },
  {
   "cell_type": "markdown",
   "metadata": {},
   "source": [
    "[Solved] Right corner of the Python console, leftside of the small grey triangel, change path to /Users/grace, copy RatingCounter.py and ml-100k directory into this directory. Re-Run the command again."
   ]
  },
  {
   "cell_type": "raw",
   "metadata": {},
   "source": [
    "Output:\n",
    "No configs found; falling back on auto-configuration\n",
    "Creating temp directory /var/folders/cz/f99fjcm50xn182f_gq5dgjnr0000gn/T/RatingCounter1.grace.20161027.043415.922733\n",
    "Running step 1 of 1...\n",
    "Streaming final output from /var/folders/cz/f99fjcm50xn182f_gq5dgjnr0000gn/T/RatingCounter1.grace.20161027.043415.922733/output...\n",
    "\"1\"     6110\n",
    "\"2\"     11370\n",
    "\"3\"     27145\n",
    "\"4\"     34174\n",
    "\"5\"     21201\n",
    "Removing temp directory /var/folders/cz/f99fjcm50xn182f_gq5dgjnr0000gn/T/RatingCounter1.grace.20161027.043415.922733..."
   ]
  },
  {
   "cell_type": "markdown",
   "metadata": {},
   "source": [
    "---The End"
   ]
  }
 ],
 "metadata": {
  "kernelspec": {
   "display_name": "Python 2",
   "language": "python",
   "name": "python2"
  },
  "language_info": {
   "codemirror_mode": {
    "name": "ipython",
    "version": 2
   },
   "file_extension": ".py",
   "mimetype": "text/x-python",
   "name": "python",
   "nbconvert_exporter": "python",
   "pygments_lexer": "ipython2",
   "version": "2.7.11"
  }
 },
 "nbformat": 4,
 "nbformat_minor": 0
}
